{
 "cells": [
  {
   "cell_type": "markdown",
   "metadata": {},
   "source": [
    "<CENTER><img src=\"opendata-top-transblack.png\" style=\"width:60%\"></CENTER>"
   ]
  },
  {
   "cell_type": "markdown",
   "metadata": {},
   "source": [
    "<CENTER><h1>Simple pyROOT notebook example</h1></CENTER>"
   ]
  },
  {
   "cell_type": "code",
   "execution_count": 1,
   "metadata": {
    "collapsed": false
   },
   "outputs": [
    {
     "data": {
      "application/javascript": [
       "require(['codemirror/mode/clike/clike'], function(Clike) { console.log('ROOTaaS - C++ CodeMirror module loaded'); });"
      ]
     },
     "metadata": {},
     "output_type": "display_data"
    },
    {
     "data": {
      "application/javascript": [
       "IPython.CodeCell.config_defaults.highlight_modes['magic_text/x-c++src'] = {'reg':[/^%%cpp/]};"
      ]
     },
     "metadata": {},
     "output_type": "display_data"
    },
    {
     "name": "stdout",
     "output_type": "stream",
     "text": [
      "Welcome to ROOTaaS 6.06/08\n"
     ]
    }
   ],
   "source": [
    "import ROOT"
   ]
  },
  {
   "cell_type": "code",
   "execution_count": 2,
   "metadata": {
    "collapsed": false
   },
   "outputs": [],
   "source": [
    "##f = ROOT.TFile.Open(\"http://opendata.atlas.cern/release/samples/MC/mc_105986.ZZ.root\")\n",
    "bgs= ROOT.TFile.Open(\"mc_105985.WW.root\")\n",
    "sig = ROOT.TFile.Open(\"mc_161005.ggH125_WW2lep.root\")\n",
    "##"
   ]
  },
  {
   "cell_type": "code",
   "execution_count": 3,
   "metadata": {
    "collapsed": true
   },
   "outputs": [],
   "source": [
    "c = ROOT.TCanvas(\"testCanvas\",\"a first way to plot a variable\",800,600)"
   ]
  },
  {
   "cell_type": "code",
   "execution_count": 4,
   "metadata": {
    "collapsed": false
   },
   "outputs": [],
   "source": [
    "t_bgs = bgs.Get(\"mini\")\n",
    "t_sig = sig.Get(\"mini\")"
   ]
  },
  {
   "cell_type": "code",
   "execution_count": 5,
   "metadata": {
    "collapsed": false
   },
   "outputs": [],
   "source": [
    "h_bgs = ROOT.TH1F(\"variable_bgs\",\"Example plot: Number of Leptons\",4,0,4)\n",
    "h2_bgs = ROOT.TH1F(\"variable2_bgs\",\"Example plot: Number of Jets\",10,0,10)\n",
    "\n",
    "h_sig = ROOT.TH1F(\"variable_sig\",\"Example plot: Number of Leptons\",4,0,4)\n",
    "h2_sig = ROOT.TH1F(\"variable2_sig\",\"Example plot: Number of Jets\",10,0,10)"
   ]
  },
  {
   "cell_type": "code",
   "execution_count": 6,
   "metadata": {
    "collapsed": false
   },
   "outputs": [
    {
     "ename": "SyntaxError",
     "evalue": "invalid syntax (<ipython-input-6-f5ef4c8a0e2f>, line 1)",
     "output_type": "error",
     "traceback": [
      "\u001b[0;36m  File \u001b[0;32m\"<ipython-input-6-f5ef4c8a0e2f>\"\u001b[0;36m, line \u001b[0;32m1\u001b[0m\n\u001b[0;31m    signal = SetBrachAdress(t_sig.runNumber, t_sig.eventNumber,  t_sig.channelNumber,  t_sig.mcWeight, t_sig.lep_n, t_sig.jet_n ]\u001b[0m\n\u001b[0m                                                                                                                                ^\u001b[0m\n\u001b[0;31mSyntaxError\u001b[0m\u001b[0;31m:\u001b[0m invalid syntax\n"
     ]
    }
   ],
   "source": [
    "signal = SetBrachAdress(t_sig.runNumber, t_sig.eventNumber,  t_sig.channelNumber,  t_sig.mcWeight, t_sig.lep_n, t_sig.jet_n ]\n",
    "background = [t_bgs.runNumber, t_bgs.eventNumber,  t_bgs.channelNumber,  t_bgs.mcWeight, t_bgs.lep_n, t_bgs.jet_n] "
   ]
  },
  {
   "cell_type": "code",
   "execution_count": null,
   "metadata": {
    "collapsed": false,
    "scrolled": true
   },
   "outputs": [],
   "source": [
    "weight = 0.0197\n",
    "\n",
    "for event in t_bgs:\n",
    "    h_bgs.Fill(t_bgs.lep_n) #background[4], background[3] is not working\n",
    "    h2_bgs.Fill(t_bgs.jet_n)\n",
    "for event in t_sig:\n",
    "    h_sig.Fill(t_sig.lep_n, weight)\n",
    "    h2_sig.Fill(t_sig.jet_n, weight)\n",
    "        \n",
    "print \"Done!\"\n",
    "print t_bgs.lep\n",
    "print background[2]"
   ]
  },
  {
   "cell_type": "code",
   "execution_count": null,
   "metadata": {
    "collapsed": false
   },
   "outputs": [],
   "source": [
    "scale_sig = h_sig.Integral()\n",
    "#h_sig.Scale(1/scale_sig)\n",
    "\n",
    "## Scale background\n",
    "#scale_sig = (20.90286)/(2489550.66*0.388)\n",
    "h_sig.Scale(1/scale_sig)\n",
    "\n",
    "## Scale Higgs Boson\n",
    "# scale2_sig = (0.00538752)/(198997.386*0.854398386)\n",
    "scale2_sig = h_sig.Integral()\n",
    "h2_sig.Scale(1/scale2_sig)\n",
    "\n",
    "print \"scale_sig = \", scale_sig\n",
    "print \"scale2_sig = \", scale2_sig\n",
    "\n",
    "#h_sig.Draw()\n",
    "#h2_sig.Draw(\"same\")\n",
    "#c.Draw()"
   ]
  },
  {
   "cell_type": "code",
   "execution_count": null,
   "metadata": {
    "collapsed": false
   },
   "outputs": [],
   "source": [
    "#scale_bgs = h_bgs.Integral()\n",
    "#h_bgs.Scale(1/scale_bgs)\n",
    "\n",
    "#scale2_bgs= h2_bgs.Integral()\n",
    "#h2_bgs.Scale(1/scale2_bgs)\n",
    "\n",
    "\n",
    "h_bgs.SetFillStyle(3008)\n",
    "h_bgs.SetFillColor(4)\n",
    "h_sig.SetFillStyle(3003)\n",
    "h_sig.SetFillColor(2)\n",
    "\n",
    "legend=ROOT.TLegend(0.75,0.7,0.9,0.9)\n",
    "legend.AddEntry(h_bgs,\"Background(WW)\",\"f\")\n",
    "legend.AddEntry(h_sig,\"Signal(Higgs)\",\"f\")\n",
    "\n",
    "h_sig.SetLineColor(2)\n",
    "h_sig.SetStats(0)\n",
    "h_bgs.SetStats(0)\n",
    "\n",
    "h_sig.Draw()\n",
    "h_bgs.Draw(\"same\")\n",
    "legend.Draw()\n",
    "c.Draw()\n"
   ]
  },
  {
   "cell_type": "code",
   "execution_count": null,
   "metadata": {
    "collapsed": false
   },
   "outputs": [],
   "source": [
    "\n",
    "h2_bgs.SetFillStyle(3008)\n",
    "h2_bgs.SetFillColor(4)\n",
    "h2_sig.SetFillStyle(3003)\n",
    "h2_sig.SetFillColor(2)\n",
    "\n",
    "legend=ROOT.TLegend(0.5,0.7,0.9,0.9)\n",
    "legend.AddEntry(h2_bgs,\"Background(WW)\",\"f\")\n",
    "legend.AddEntry(h2_sig,\"Signal(Higgs)\",\"f\")\n",
    "\n",
    "\n",
    "h2_sig.SetLineColor(2)\n",
    "h2_sig.SetStats(0)\n",
    "h2_bgs.SetStats(0)\n",
    "h2_sig.Draw()\n",
    "h2_bgs.Draw(\"same\")\n",
    "legend.Draw()\n",
    "c.Draw()\n"
   ]
  },
  {
   "cell_type": "code",
   "execution_count": null,
   "metadata": {
    "collapsed": true
   },
   "outputs": [],
   "source": []
  }
 ],
 "metadata": {
  "kernelspec": {
   "display_name": "Python 2",
   "language": "python",
   "name": "python2"
  },
  "language_info": {
   "codemirror_mode": {
    "name": "ipython",
    "version": 2
   },
   "file_extension": ".py",
   "mimetype": "text/x-python",
   "name": "python",
   "nbconvert_exporter": "python",
   "pygments_lexer": "ipython2",
   "version": "2.7.9"
  }
 },
 "nbformat": 4,
 "nbformat_minor": 1
}
