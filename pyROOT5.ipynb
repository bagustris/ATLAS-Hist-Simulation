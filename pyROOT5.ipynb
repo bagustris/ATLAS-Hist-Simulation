{
 "cells": [
  {
   "cell_type": "markdown",
   "metadata": {},
   "source": [
    "<CENTER><img src=\"opendata-top-transblack.png\" style=\"width:60%\"></CENTER>"
   ]
  },
  {
   "cell_type": "markdown",
   "metadata": {},
   "source": [
    "<CENTER><h1>Simple pyROOT notebook example</h1></CENTER>"
   ]
  },
  {
   "cell_type": "code",
   "execution_count": 1,
   "metadata": {
    "collapsed": false
   },
   "outputs": [
    {
     "data": {
      "application/javascript": [
       "require(['codemirror/mode/clike/clike'], function(Clike) { console.log('ROOTaaS - C++ CodeMirror module loaded'); });"
      ]
     },
     "metadata": {},
     "output_type": "display_data"
    },
    {
     "data": {
      "application/javascript": [
       "IPython.CodeCell.config_defaults.highlight_modes['magic_text/x-c++src'] = {'reg':[/^%%cpp/]};"
      ]
     },
     "metadata": {},
     "output_type": "display_data"
    },
    {
     "name": "stdout",
     "output_type": "stream",
     "text": [
      "Welcome to ROOTaaS 6.06/08\n"
     ]
    }
   ],
   "source": [
    "import ROOT\n",
    "from math import *\n",
    "import sys\n",
    "sys.path.insert(0, '~/atlas-outreach-data-tools-framework-master/')\n",
    "#import Analysis"
   ]
  },
  {
   "cell_type": "code",
   "execution_count": 2,
   "metadata": {
    "collapsed": false
   },
   "outputs": [],
   "source": [
    "## f = ROOT.TFile.Open(\"http://opendata.atlas.cern/release/samples/MC/mc_105986.ZZ.root\")\n",
    "bgs= ROOT.TFile.Open(\"mc_105985.WW.root\")\n",
    "sig = ROOT.TFile.Open(\"mc_161005.ggH125_WW2lep.root\")"
   ]
  },
  {
   "cell_type": "code",
   "execution_count": 3,
   "metadata": {
    "collapsed": true
   },
   "outputs": [],
   "source": [
    "c = ROOT.TCanvas(\"testCanvas\",\"a first way to plot a variable\",800,600)"
   ]
  },
  {
   "cell_type": "code",
   "execution_count": 4,
   "metadata": {
    "collapsed": false
   },
   "outputs": [],
   "source": [
    "b = bgs.Get(\"mini\")\n",
    "s = sig.Get(\"mini\") # t for signal"
   ]
  },
  {
   "cell_type": "code",
   "execution_count": 5,
   "metadata": {
    "collapsed": false
   },
   "outputs": [],
   "source": [
    "h_bgs = ROOT.TH1F(\"variable2_bgs\",\"Example plot: Number of Jets\",10,0,10)\n",
    "h_sig = ROOT.TH1F(\"variable2_sig\",\"Example plot: Number of Jets\",10,0,10)"
   ]
  },
  {
   "cell_type": "code",
   "execution_count": 6,
   "metadata": {
    "collapsed": false,
    "scrolled": true
   },
   "outputs": [
    {
     "name": "stdout",
     "output_type": "stream",
     "text": [
      "Done\n"
     ]
    }
   ],
   "source": [
    "# Selection for signal\n",
    "weight = 0.00014\n",
    "\n",
    "for event in s:\n",
    "    # First, select only two lepton or more\n",
    "    if s.lep_n > 1:\n",
    "        # Make sure the e\n",
    "        if s.lep_type[0] != s.lep_type[1]:\n",
    "            # Let's define one TLorentz vector for each, e.i. two vectors!\n",
    "            leadingLep = ROOT.TLorentzVector(s.lep_pt[0], s.lep_eta[0], s.lep_phi[0], s.lep_E[0])\n",
    "            secondLep  = ROOT.TLorentzVector(s.lep_pt[1], s.lep_eta[1], s.lep_phi[1], s.lep_E[1])\n",
    "\n",
    "            # Next line does the addition of the two TLorentz vectors above and so, we can ask the mass very easy     \n",
    "            TL_ll = leadingLep + secondLep\n",
    "            mll = TL_ll.M()/1000.\n",
    "            if mll < 55 or mll > 10:\n",
    "                has_btags = any([w > 0.789 for w in s.jet_MV1])\n",
    "                if not has_btags:\n",
    "                #btags = sum([1 for count in range(0,3) if s.jet_MV1() > 0.789])\n",
    "                #if btags = 0:\n",
    "                # total tranvers momentum\n",
    "                    if s.lep_pt > 10 or s.lep_pt < 200:\n",
    "                        if s.met_et/1000. < 200:\n",
    "                            ll = s.lep_phi[0] - s.lep_phi[1]   \n",
    "                            if s.met_phi - ll < 180 or s.met_phi - ll > 10:\n",
    "                                if ll < 100:\n",
    "                                    h_sig.Fill(s.jet_n, weight)\n",
    "\n",
    "print \"Done\""
   ]
  },
  {
   "cell_type": "code",
   "execution_count": 7,
   "metadata": {
    "collapsed": false
   },
   "outputs": [
    {
     "name": "stdout",
     "output_type": "stream",
     "text": [
      "Done\n"
     ]
    }
   ],
   "source": [
    "# selection for background\n",
    "for event in b:\n",
    "    # First is to use minimal two lepton\n",
    "    if b.lep_n > 1:\n",
    "        if b.lep_type[0] != b.lep_type[1]:\n",
    "            # Let's define one TLorentz vector for each, e.i. two vectors!\n",
    "            leadingLepB = ROOT.TLorentzVector(b.lep_pt[0], b.lep_eta[0], b.lep_phi[0], b.lep_E[0])\n",
    "            secondLepB  = ROOT.TLorentzVector(b.lep_pt[1], b.lep_eta[1], b.lep_phi[1], b.lep_E[1])\n",
    "\n",
    "            # Next line does the addition of the two TLorentz vectors above and so, we can ask the mass very easy     \n",
    "            TL_llB = leadingLepB + secondLepB\n",
    "            mllB = TL_ll.M()/1000.\n",
    "            if mllB < 55 or mllB > 10:\n",
    "                has_btagsB = any([w > 0.789 for w in b.jet_MV1])\n",
    "                if not has_btagsB:\n",
    "                    # total tranvers momentum\n",
    "                    if b.lep_pt > 10 or b.lep_pt < 200:\n",
    "                        if b.met_et/1000. < 200:\n",
    "                            llB = b.lep_phi[0] - b.lep_phi[1]   \n",
    "                            if b.met_phi - llB < 180 or b.met_phi - llB > 10:\n",
    "                                if llB < 100:\n",
    "                                    h_bgs.Fill(b.jet_n)\n",
    "print \"Done\""
   ]
  },
  {
   "cell_type": "code",
   "execution_count": 8,
   "metadata": {
    "collapsed": false
   },
   "outputs": [
    {
     "name": "stdout",
     "output_type": "stream",
     "text": [
      "scale_sig =  4.94045042869\n",
      "scale_bgs =  34758.0\n",
      "original sb = 0.0197989898732\n",
      "new sb = 0.0264995901215\n"
     ]
    }
   ],
   "source": [
    "scale_sig = h_sig.Integral()\n",
    "h_sig.Scale(1/scale_sig)\n",
    "\n",
    "orig_scale_sig = 14.\n",
    "orig_scale_bgs = 500000.\n",
    "\n",
    "scale_bgs = h_bgs.Integral()\n",
    "h_sig.Scale(1/scale_bgs)\n",
    "\n",
    "print \"scale_sig = \", scale_sig\n",
    "print \"scale_bgs = \", scale_bgs\n",
    "\n",
    "# calculate significance\n",
    "orig_sb = orig_scale_sig / sqrt(orig_scale_bgs)\n",
    "sb = scale_sig / sqrt(scale_bgs)\n",
    "\n",
    "print \"original sb =\", orig_sb\n",
    "print \"new sb =\", sb "
   ]
  },
  {
   "cell_type": "code",
   "execution_count": 9,
   "metadata": {
    "collapsed": false
   },
   "outputs": [
    {
     "data": {
      "image/png": "[encoded data removed]",
      "text/plain": [
       "<IPython.core.display.Image object>"
      ]
     },
     "metadata": {},
     "output_type": "display_data"
    }
   ],
   "source": [
    "h_bgs.SetFillStyle(3008)\n",
    "h_bgs.SetFillColor(4)\n",
    "h_sig.SetFillStyle(3003)\n",
    "h_sig.SetFillColor(2)\n",
    "\n",
    "legend=ROOT.TLegend(0.75,0.7,0.9,0.9)\n",
    "legend.AddEntry(h_bgs,\"Background(WW)\",\"f\")\n",
    "legend.AddEntry(h_sig,\"Signal(Higgs)\",\"f\")\n",
    "\n",
    "h_sig.SetLineColor(2)\n",
    "h_sig.SetStats(0)\n",
    "h_bgs.SetStats(0)\n",
    "\n",
    "h_bgs.Draw()\n",
    "h_sig.Draw(\"same\")\n",
    "legend.Draw()\n",
    "c.Draw()\n"
   ]
  },
  {
   "cell_type": "code",
   "execution_count": null,
   "metadata": {
    "collapsed": true
   },
   "outputs": [],
   "source": []
  }
 ],
 "metadata": {
  "kernelspec": {
   "display_name": "Python 2",
   "language": "python",
   "name": "python2"
  },
  "language_info": {
   "codemirror_mode": {
    "name": "ipython",
    "version": 2
   },
   "file_extension": ".py",
   "mimetype": "text/x-python",
   "name": "python",
   "nbconvert_exporter": "python",
   "pygments_lexer": "ipython2",
   "version": "2.7.9"
  }
 },
 "nbformat": 4,
 "nbformat_minor": 1
}
