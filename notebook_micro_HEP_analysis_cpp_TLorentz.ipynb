{
 "cells": [
  {
   "cell_type": "markdown",
   "metadata": {},
   "source": [
    "<CENTER><img src=\"opendata-top-transblack.png\" style=\"width:60%\"></CENTER>"
   ]
  },
  {
   "cell_type": "markdown",
   "metadata": {},
   "source": [
    "<CENTER><h1>Simple ATLAS OpenData HEP analysis C++ notebook example</h1></CENTER>"
   ]
  },
  {
   "cell_type": "code",
   "execution_count": 1,
   "metadata": {
    "collapsed": false
   },
   "outputs": [],
   "source": [
    "#include <iostream>\n",
    "#include <string>\n",
    "#include <stdio.h>"
   ]
  },
  {
   "cell_type": "code",
   "execution_count": 2,
   "metadata": {
    "collapsed": false
   },
   "outputs": [],
   "source": [
    "TChain *dataset = new TChain(\"mini\");"
   ]
  },
  {
   "cell_type": "code",
   "execution_count": 3,
   "metadata": {
    "collapsed": true
   },
   "outputs": [],
   "source": [
    "dataset->Add(\"mc_105986.ZZ.root\");\n",
    "\n",
    "//This input is readed directly from the Internet. If you are ofline, you can use the line above\n",
    "//dataset->Add(\"http://opendata.atlas.cern/release/samples/MC/mc_147770.Zee.root\");"
   ]
  },
  {
   "cell_type": "code",
   "execution_count": 4,
   "metadata": {
    "collapsed": false
   },
   "outputs": [],
   "source": [
    "const int vs = 5;\n",
    "\n",
    "Int_t   lepton_n = -1,\n",
    "        lepton_charge[vs], \n",
    "        lepton_type[vs];\n",
    "\n",
    "Float_t lepton_pt[vs],\n",
    "        lepton_eta[vs],\n",
    "        lepton_phi[vs],\n",
    "        lepton_E[vs];"
   ]
  },
  {
   "cell_type": "code",
   "execution_count": 5,
   "metadata": {
    "collapsed": false
   },
   "outputs": [],
   "source": [
    "dataset->SetBranchAddress(\"lep_n\",      &lepton_n);\n",
    "dataset->SetBranchAddress(\"lep_charge\", &lepton_charge);\n",
    "dataset->SetBranchAddress(\"lep_type\",   &lepton_type);\n",
    "dataset->SetBranchAddress(\"lep_pt\",     &lepton_pt);\n",
    "dataset->SetBranchAddress(\"lep_eta\",    &lepton_eta);\n",
    "dataset->SetBranchAddress(\"lep_phi\",    &lepton_phi);\n",
    "dataset->SetBranchAddress(\"lep_E\",   &lepton_E);"
   ]
  },
  {
   "cell_type": "code",
   "execution_count": 6,
   "metadata": {
    "collapsed": false
   },
   "outputs": [],
   "source": [
    "TH1F *h_lep_pt_leptons = new TH1F(\"h_lep_pt_leptons\",\"Lepton pt in GeV\",20,0,200);\n",
    "h_lep_pt_leptons->SetFillColor(kBlue);"
   ]
  },
  {
   "cell_type": "code",
   "execution_count": 7,
   "metadata": {
    "collapsed": false
   },
   "outputs": [],
   "source": [
    "int nentries, nbytes, i;\n",
    "nentries = (Int_t)dataset->GetEntries();"
   ]
  },
  {
   "cell_type": "code",
   "execution_count": 8,
   "metadata": {
    "collapsed": false
   },
   "outputs": [
    {
     "name": "stdout",
     "output_type": "stream",
     "text": [
      "Total # events = 125000. Events to run = 125000 corresponding to 100% of total events!\r\n"
     ]
    }
   ],
   "source": [
    "// IMPORTANT: fraction events we want to run\n",
    "fraction_events = 1;\n",
    "events_to_run = nentries*fraction_events;\n",
    "\n",
    "std::cout << \"Total # events = \"  << nentries\n",
    "          << \". Events to run = \" << events_to_run\n",
    "          << \" corresponding to \" << fraction_events*100\n",
    "          << \"% of total events!\" << std::endl;"
   ]
  },
  {
   "cell_type": "code",
   "execution_count": 9,
   "metadata": {
    "collapsed": false
   },
   "outputs": [],
   "source": [
    "TLorentzVector l1;         \n",
    "TLorentzVector l2;  \n",
    "TLorentzVector l1plusl2;  \n",
    "\n",
    "for (i=0; i<events_to_run; i++)\n",
    "{\n",
    "    nbytes = dataset->GetEntry(i);\n",
    "    \n",
    "    if(lepton_n==2) // Number of leptons in the events has to be at least 2\n",
    "    {\n",
    "        if(lepton_type[0] == lepton_type[1]) //Leptons of the same family, i.e. 2 electrons or 2 muons (those are the two most energetic leptons)\n",
    "        {\n",
    "            if(lepton_charge[0] != lepton_charge[1]) // The two selected leptons must have opposite charge\n",
    "            {\n",
    "                //PT\n",
    "                float lepton_mass = lepton_pt[1]/1000.; // The default value in the root file is in MeV, so, we divide by 1000 to get it in GeV\n",
    "               // h_lep_pt_leptons->Fill(lepton_pt_inGeV);\n",
    "                \n",
    "                                \n",
    "              \n",
    "\n",
    "                l1.SetPtEtaPhiE(lepton_pt[0]/1000., lepton_eta[0], lepton_phi[0], lepton_E[0]/1000.);\n",
    "                l2.SetPtEtaPhiE(lepton_pt[1]/1000., lepton_eta[1], lepton_phi[1], lepton_E[1]/1000.);\n",
    "                l1plusl2=l1+l2;\n",
    "                //l1plusl2.M();\n",
    "                h_lep_pt_leptons->Fill(l1plusl2.M());\n",
    "\n",
    "            }\n",
    "        }\n",
    "    }\n",
    "}"
   ]
  },
  {
   "cell_type": "code",
   "execution_count": 10,
   "metadata": {
    "collapsed": false
   },
   "outputs": [
    {
     "data": {
      "image/png": "[encoded data removed]",
      "text/plain": [
       "<IPython.core.display.Image object>"
      ]
     },
     "metadata": {},
     "output_type": "display_data"
    }
   ],
   "source": [
    "TCanvas *cz = new TCanvas(\"cz\",\"cz\",10,10,700,700);\n",
    "h_lep_pt_leptons->Draw();\n",
    "cz->Draw();"
   ]
  },
  {
   "cell_type": "code",
   "execution_count": null,
   "metadata": {
    "collapsed": true
   },
   "outputs": [],
   "source": []
  }
 ],
 "metadata": {
  "kernelspec": {
   "display_name": "ROOT Prompt",
   "language": "c++",
   "name": "root"
  },
  "language_info": {
   "codemirror_mode": {
    "name": "ipython",
    "version": 2
   },
   "file_extension": ".py",
   "mimetype": "text/x-python",
   "name": "python",
   "nbconvert_exporter": "python",
   "pygments_lexer": "ipython2",
   "version": "2.7.9"
  }
 },
 "nbformat": 4,
 "nbformat_minor": 1
}
